{
 "cells": [
  {
   "cell_type": "markdown",
   "id": "198b6779",
   "metadata": {},
   "source": [
    "# Praca domowa 2"
   ]
  },
  {
   "cell_type": "code",
   "execution_count": 1,
   "id": "1aa203e2",
   "metadata": {},
   "outputs": [],
   "source": [
    "import pandas as pd\n",
    "import numpy as np\n",
    "from sklearn.metrics import roc_auc_score\n",
    "from sklearn.metrics import accuracy_score"
   ]
  },
  {
   "cell_type": "code",
   "execution_count": 2,
   "id": "048cf9d4",
   "metadata": {},
   "outputs": [],
   "source": [
    "data = pd.read_csv('diabetic_data_2.csv')"
   ]
  },
  {
   "cell_type": "code",
   "execution_count": 3,
   "id": "a371c1d0",
   "metadata": {},
   "outputs": [
    {
     "data": {
      "text/html": [
       "<div>\n",
       "<style scoped>\n",
       "    .dataframe tbody tr th:only-of-type {\n",
       "        vertical-align: middle;\n",
       "    }\n",
       "\n",
       "    .dataframe tbody tr th {\n",
       "        vertical-align: top;\n",
       "    }\n",
       "\n",
       "    .dataframe thead th {\n",
       "        text-align: right;\n",
       "    }\n",
       "</style>\n",
       "<table border=\"1\" class=\"dataframe\">\n",
       "  <thead>\n",
       "    <tr style=\"text-align: right;\">\n",
       "      <th></th>\n",
       "      <th>gender</th>\n",
       "      <th>age</th>\n",
       "      <th>discharge_disposition_id</th>\n",
       "      <th>time_in_hospital</th>\n",
       "      <th>num_lab_procedures</th>\n",
       "      <th>num_procedures</th>\n",
       "      <th>num_medications</th>\n",
       "      <th>number_outpatient</th>\n",
       "      <th>number_emergency</th>\n",
       "      <th>number_inpatient</th>\n",
       "      <th>...</th>\n",
       "      <th>diag_1_Other</th>\n",
       "      <th>diag_1_Respiratory</th>\n",
       "      <th>max_glu_serum_&gt;200</th>\n",
       "      <th>max_glu_serum_&gt;300</th>\n",
       "      <th>max_glu_serum_None</th>\n",
       "      <th>max_glu_serum_Norm</th>\n",
       "      <th>A1Cresult_&gt;7</th>\n",
       "      <th>A1Cresult_&gt;8</th>\n",
       "      <th>A1Cresult_None</th>\n",
       "      <th>A1Cresult_Norm</th>\n",
       "    </tr>\n",
       "  </thead>\n",
       "  <tbody>\n",
       "    <tr>\n",
       "      <th>0</th>\n",
       "      <td>0</td>\n",
       "      <td>15</td>\n",
       "      <td>1</td>\n",
       "      <td>3</td>\n",
       "      <td>59</td>\n",
       "      <td>0</td>\n",
       "      <td>18</td>\n",
       "      <td>0</td>\n",
       "      <td>0</td>\n",
       "      <td>0</td>\n",
       "      <td>...</td>\n",
       "      <td>1</td>\n",
       "      <td>0</td>\n",
       "      <td>0</td>\n",
       "      <td>0</td>\n",
       "      <td>1</td>\n",
       "      <td>0</td>\n",
       "      <td>0</td>\n",
       "      <td>0</td>\n",
       "      <td>1</td>\n",
       "      <td>0</td>\n",
       "    </tr>\n",
       "    <tr>\n",
       "      <th>1</th>\n",
       "      <td>0</td>\n",
       "      <td>25</td>\n",
       "      <td>1</td>\n",
       "      <td>2</td>\n",
       "      <td>11</td>\n",
       "      <td>5</td>\n",
       "      <td>13</td>\n",
       "      <td>2</td>\n",
       "      <td>0</td>\n",
       "      <td>1</td>\n",
       "      <td>...</td>\n",
       "      <td>1</td>\n",
       "      <td>0</td>\n",
       "      <td>0</td>\n",
       "      <td>0</td>\n",
       "      <td>1</td>\n",
       "      <td>0</td>\n",
       "      <td>0</td>\n",
       "      <td>0</td>\n",
       "      <td>1</td>\n",
       "      <td>0</td>\n",
       "    </tr>\n",
       "    <tr>\n",
       "      <th>2</th>\n",
       "      <td>1</td>\n",
       "      <td>35</td>\n",
       "      <td>1</td>\n",
       "      <td>2</td>\n",
       "      <td>44</td>\n",
       "      <td>1</td>\n",
       "      <td>16</td>\n",
       "      <td>0</td>\n",
       "      <td>0</td>\n",
       "      <td>0</td>\n",
       "      <td>...</td>\n",
       "      <td>1</td>\n",
       "      <td>0</td>\n",
       "      <td>0</td>\n",
       "      <td>0</td>\n",
       "      <td>1</td>\n",
       "      <td>0</td>\n",
       "      <td>0</td>\n",
       "      <td>0</td>\n",
       "      <td>1</td>\n",
       "      <td>0</td>\n",
       "    </tr>\n",
       "    <tr>\n",
       "      <th>3</th>\n",
       "      <td>1</td>\n",
       "      <td>45</td>\n",
       "      <td>1</td>\n",
       "      <td>1</td>\n",
       "      <td>51</td>\n",
       "      <td>0</td>\n",
       "      <td>8</td>\n",
       "      <td>0</td>\n",
       "      <td>0</td>\n",
       "      <td>0</td>\n",
       "      <td>...</td>\n",
       "      <td>0</td>\n",
       "      <td>0</td>\n",
       "      <td>0</td>\n",
       "      <td>0</td>\n",
       "      <td>1</td>\n",
       "      <td>0</td>\n",
       "      <td>0</td>\n",
       "      <td>0</td>\n",
       "      <td>1</td>\n",
       "      <td>0</td>\n",
       "    </tr>\n",
       "    <tr>\n",
       "      <th>4</th>\n",
       "      <td>1</td>\n",
       "      <td>55</td>\n",
       "      <td>1</td>\n",
       "      <td>3</td>\n",
       "      <td>31</td>\n",
       "      <td>6</td>\n",
       "      <td>16</td>\n",
       "      <td>0</td>\n",
       "      <td>0</td>\n",
       "      <td>0</td>\n",
       "      <td>...</td>\n",
       "      <td>0</td>\n",
       "      <td>0</td>\n",
       "      <td>0</td>\n",
       "      <td>0</td>\n",
       "      <td>1</td>\n",
       "      <td>0</td>\n",
       "      <td>0</td>\n",
       "      <td>0</td>\n",
       "      <td>1</td>\n",
       "      <td>0</td>\n",
       "    </tr>\n",
       "    <tr>\n",
       "      <th>5</th>\n",
       "      <td>1</td>\n",
       "      <td>65</td>\n",
       "      <td>1</td>\n",
       "      <td>4</td>\n",
       "      <td>70</td>\n",
       "      <td>1</td>\n",
       "      <td>21</td>\n",
       "      <td>0</td>\n",
       "      <td>0</td>\n",
       "      <td>0</td>\n",
       "      <td>...</td>\n",
       "      <td>0</td>\n",
       "      <td>0</td>\n",
       "      <td>0</td>\n",
       "      <td>0</td>\n",
       "      <td>1</td>\n",
       "      <td>0</td>\n",
       "      <td>0</td>\n",
       "      <td>0</td>\n",
       "      <td>1</td>\n",
       "      <td>0</td>\n",
       "    </tr>\n",
       "    <tr>\n",
       "      <th>6</th>\n",
       "      <td>1</td>\n",
       "      <td>75</td>\n",
       "      <td>1</td>\n",
       "      <td>5</td>\n",
       "      <td>73</td>\n",
       "      <td>0</td>\n",
       "      <td>12</td>\n",
       "      <td>0</td>\n",
       "      <td>0</td>\n",
       "      <td>0</td>\n",
       "      <td>...</td>\n",
       "      <td>0</td>\n",
       "      <td>0</td>\n",
       "      <td>0</td>\n",
       "      <td>0</td>\n",
       "      <td>1</td>\n",
       "      <td>0</td>\n",
       "      <td>0</td>\n",
       "      <td>0</td>\n",
       "      <td>1</td>\n",
       "      <td>0</td>\n",
       "    </tr>\n",
       "    <tr>\n",
       "      <th>7</th>\n",
       "      <td>0</td>\n",
       "      <td>85</td>\n",
       "      <td>1</td>\n",
       "      <td>13</td>\n",
       "      <td>68</td>\n",
       "      <td>2</td>\n",
       "      <td>28</td>\n",
       "      <td>0</td>\n",
       "      <td>0</td>\n",
       "      <td>0</td>\n",
       "      <td>...</td>\n",
       "      <td>0</td>\n",
       "      <td>0</td>\n",
       "      <td>0</td>\n",
       "      <td>0</td>\n",
       "      <td>1</td>\n",
       "      <td>0</td>\n",
       "      <td>0</td>\n",
       "      <td>0</td>\n",
       "      <td>1</td>\n",
       "      <td>0</td>\n",
       "    </tr>\n",
       "    <tr>\n",
       "      <th>8</th>\n",
       "      <td>0</td>\n",
       "      <td>95</td>\n",
       "      <td>0</td>\n",
       "      <td>12</td>\n",
       "      <td>33</td>\n",
       "      <td>3</td>\n",
       "      <td>18</td>\n",
       "      <td>0</td>\n",
       "      <td>0</td>\n",
       "      <td>0</td>\n",
       "      <td>...</td>\n",
       "      <td>0</td>\n",
       "      <td>0</td>\n",
       "      <td>0</td>\n",
       "      <td>0</td>\n",
       "      <td>1</td>\n",
       "      <td>0</td>\n",
       "      <td>0</td>\n",
       "      <td>0</td>\n",
       "      <td>1</td>\n",
       "      <td>0</td>\n",
       "    </tr>\n",
       "    <tr>\n",
       "      <th>9</th>\n",
       "      <td>0</td>\n",
       "      <td>45</td>\n",
       "      <td>1</td>\n",
       "      <td>9</td>\n",
       "      <td>47</td>\n",
       "      <td>2</td>\n",
       "      <td>17</td>\n",
       "      <td>0</td>\n",
       "      <td>0</td>\n",
       "      <td>0</td>\n",
       "      <td>...</td>\n",
       "      <td>0</td>\n",
       "      <td>0</td>\n",
       "      <td>0</td>\n",
       "      <td>0</td>\n",
       "      <td>1</td>\n",
       "      <td>0</td>\n",
       "      <td>0</td>\n",
       "      <td>0</td>\n",
       "      <td>1</td>\n",
       "      <td>0</td>\n",
       "    </tr>\n",
       "  </tbody>\n",
       "</table>\n",
       "<p>10 rows × 56 columns</p>\n",
       "</div>"
      ],
      "text/plain": [
       "   gender  age  discharge_disposition_id  time_in_hospital  \\\n",
       "0       0   15                         1                 3   \n",
       "1       0   25                         1                 2   \n",
       "2       1   35                         1                 2   \n",
       "3       1   45                         1                 1   \n",
       "4       1   55                         1                 3   \n",
       "5       1   65                         1                 4   \n",
       "6       1   75                         1                 5   \n",
       "7       0   85                         1                13   \n",
       "8       0   95                         0                12   \n",
       "9       0   45                         1                 9   \n",
       "\n",
       "   num_lab_procedures  num_procedures  num_medications  number_outpatient  \\\n",
       "0                  59               0               18                  0   \n",
       "1                  11               5               13                  2   \n",
       "2                  44               1               16                  0   \n",
       "3                  51               0                8                  0   \n",
       "4                  31               6               16                  0   \n",
       "5                  70               1               21                  0   \n",
       "6                  73               0               12                  0   \n",
       "7                  68               2               28                  0   \n",
       "8                  33               3               18                  0   \n",
       "9                  47               2               17                  0   \n",
       "\n",
       "   number_emergency  number_inpatient  ...  diag_1_Other  diag_1_Respiratory  \\\n",
       "0                 0                 0  ...             1                   0   \n",
       "1                 0                 1  ...             1                   0   \n",
       "2                 0                 0  ...             1                   0   \n",
       "3                 0                 0  ...             0                   0   \n",
       "4                 0                 0  ...             0                   0   \n",
       "5                 0                 0  ...             0                   0   \n",
       "6                 0                 0  ...             0                   0   \n",
       "7                 0                 0  ...             0                   0   \n",
       "8                 0                 0  ...             0                   0   \n",
       "9                 0                 0  ...             0                   0   \n",
       "\n",
       "   max_glu_serum_>200  max_glu_serum_>300  max_glu_serum_None  \\\n",
       "0                   0                   0                   1   \n",
       "1                   0                   0                   1   \n",
       "2                   0                   0                   1   \n",
       "3                   0                   0                   1   \n",
       "4                   0                   0                   1   \n",
       "5                   0                   0                   1   \n",
       "6                   0                   0                   1   \n",
       "7                   0                   0                   1   \n",
       "8                   0                   0                   1   \n",
       "9                   0                   0                   1   \n",
       "\n",
       "   max_glu_serum_Norm  A1Cresult_>7  A1Cresult_>8  A1Cresult_None  \\\n",
       "0                   0             0             0               1   \n",
       "1                   0             0             0               1   \n",
       "2                   0             0             0               1   \n",
       "3                   0             0             0               1   \n",
       "4                   0             0             0               1   \n",
       "5                   0             0             0               1   \n",
       "6                   0             0             0               1   \n",
       "7                   0             0             0               1   \n",
       "8                   0             0             0               1   \n",
       "9                   0             0             0               1   \n",
       "\n",
       "   A1Cresult_Norm  \n",
       "0               0  \n",
       "1               0  \n",
       "2               0  \n",
       "3               0  \n",
       "4               0  \n",
       "5               0  \n",
       "6               0  \n",
       "7               0  \n",
       "8               0  \n",
       "9               0  \n",
       "\n",
       "[10 rows x 56 columns]"
      ]
     },
     "execution_count": 3,
     "metadata": {},
     "output_type": "execute_result"
    }
   ],
   "source": [
    "data.head(10)"
   ]
  },
  {
   "cell_type": "code",
   "execution_count": 4,
   "id": "c11fe1e6",
   "metadata": {},
   "outputs": [
    {
     "data": {
      "text/plain": [
       "(98052, 56)"
      ]
     },
     "execution_count": 4,
     "metadata": {},
     "output_type": "execute_result"
    }
   ],
   "source": [
    "data.shape"
   ]
  },
  {
   "cell_type": "markdown",
   "id": "96be6c4e",
   "metadata": {},
   "source": [
    "W pierwszej pracy domowej pozbyłem się rekordów które były kolejnymi wizytami tych pacjentów zostawiając tylko pierwszą z wizyt. Usunąłem także osoby które zmarły. W wyniku tych działań zmniejszyłem liczbę rekordów do około 68 tys. Jednak jak zauważyłem wpłynęło to negatywnie na mój model dlatego zdecydowałem się przywrócić tych pacjentów."
   ]
  },
  {
   "cell_type": "code",
   "execution_count": 5,
   "id": "1b2c309e",
   "metadata": {},
   "outputs": [],
   "source": [
    "df = data.copy()\n",
    "\n",
    "y = df['readmitted'].copy()\n",
    "df.drop('readmitted', axis=1, inplace=True)\n",
    "X = df.copy()"
   ]
  },
  {
   "cell_type": "code",
   "execution_count": 6,
   "id": "0d9b428a",
   "metadata": {},
   "outputs": [],
   "source": [
    "from sklearn.model_selection import train_test_split\n",
    "\n",
    "X_train, X_test, y_train, y_test = train_test_split(X, y, test_size = 0.2, random_state = 21, stratify = y)"
   ]
  },
  {
   "cell_type": "markdown",
   "id": "23eeaf0e",
   "metadata": {},
   "source": [
    "## Trening z domyślnymi parametrami (default)"
   ]
  },
  {
   "cell_type": "code",
   "execution_count": 7,
   "id": "fb7ca6d1",
   "metadata": {},
   "outputs": [],
   "source": [
    "from sklearn.ensemble import ExtraTreesClassifier"
   ]
  },
  {
   "cell_type": "code",
   "execution_count": 15,
   "id": "35b4b442",
   "metadata": {},
   "outputs": [
    {
     "data": {
      "text/plain": [
       "ExtraTreesClassifier()"
      ]
     },
     "execution_count": 15,
     "metadata": {},
     "output_type": "execute_result"
    }
   ],
   "source": [
    "from sklearn.ensemble import ExtraTreesClassifier\n",
    "clf = ExtraTreesClassifier()\n",
    "clf.fit(X_train, y_train)"
   ]
  },
  {
   "cell_type": "code",
   "execution_count": 16,
   "id": "e11593b6",
   "metadata": {},
   "outputs": [],
   "source": [
    "proba = clf.predict_proba(X_test)[:, 1]\n",
    "pred = clf.predict(X_test)"
   ]
  },
  {
   "cell_type": "code",
   "execution_count": 17,
   "id": "f3d1f82a",
   "metadata": {},
   "outputs": [
    {
     "name": "stdout",
     "output_type": "stream",
     "text": [
      "Współczynnik roc_auc wynosi: 0.64493\n"
     ]
    }
   ],
   "source": [
    "roc = \"{:.5f}\".format(roc_auc_score(y_test, proba))\n",
    "print(f\"Współczynnik roc_auc wynosi: {roc}\")"
   ]
  },
  {
   "cell_type": "code",
   "execution_count": 18,
   "id": "b627886f",
   "metadata": {},
   "outputs": [
    {
     "name": "stdout",
     "output_type": "stream",
     "text": [
      "Współczynnik accuracy wynosi: 0.60915\n"
     ]
    }
   ],
   "source": [
    "acc = \"{:.5f}\".format(accuracy_score(y_test, pred))\n",
    "print(f\"Współczynnik accuracy wynosi: {acc}\")"
   ]
  },
  {
   "cell_type": "markdown",
   "id": "465dfa2a",
   "metadata": {},
   "source": [
    "## Trening z ręcznie zmienianymi parametrami"
   ]
  },
  {
   "cell_type": "code",
   "execution_count": 38,
   "id": "33d56f19",
   "metadata": {},
   "outputs": [
    {
     "data": {
      "text/plain": [
       "ExtraTreesClassifier(max_features=40, min_samples_leaf=100, n_estimators=200)"
      ]
     },
     "execution_count": 38,
     "metadata": {},
     "output_type": "execute_result"
    }
   ],
   "source": [
    "clf = ExtraTreesClassifier(criterion = 'gini', n_estimators = 200, max_features = 40, min_samples_leaf=100)\n",
    "clf.fit(X_train, y_train)"
   ]
  },
  {
   "cell_type": "code",
   "execution_count": 39,
   "id": "acc6b61f",
   "metadata": {},
   "outputs": [],
   "source": [
    "proba = clf.predict_proba(X_test)[:, 1]\n",
    "pred = clf.predict(X_test)"
   ]
  },
  {
   "cell_type": "code",
   "execution_count": 40,
   "id": "155352f8",
   "metadata": {},
   "outputs": [
    {
     "name": "stdout",
     "output_type": "stream",
     "text": [
      "Współczynnik roc_auc wynosi: 0.67791\n"
     ]
    }
   ],
   "source": [
    "roc = \"{:.5f}\".format(roc_auc_score(y_test, proba))\n",
    "print(f\"Współczynnik roc_auc wynosi: {roc}\")"
   ]
  },
  {
   "cell_type": "code",
   "execution_count": 41,
   "id": "a812fe09",
   "metadata": {},
   "outputs": [
    {
     "name": "stdout",
     "output_type": "stream",
     "text": [
      "Współczynnik accuracy wynosi: 0.63000\n"
     ]
    }
   ],
   "source": [
    "acc = \"{:.5f}\".format(accuracy_score(y_test, pred))\n",
    "print(f\"Współczynnik accuracy wynosi: {acc}\")"
   ]
  },
  {
   "cell_type": "markdown",
   "id": "af85a36a",
   "metadata": {},
   "source": [
    "## Grid Search"
   ]
  },
  {
   "cell_type": "code",
   "execution_count": 19,
   "id": "6e26cd4c",
   "metadata": {},
   "outputs": [],
   "source": [
    "from sklearn.model_selection import GridSearchCV"
   ]
  },
  {
   "cell_type": "code",
   "execution_count": null,
   "id": "965b7917",
   "metadata": {},
   "outputs": [
    {
     "name": "stdout",
     "output_type": "stream",
     "text": [
      "Fitting 3 folds for each of 36 candidates, totalling 108 fits\n"
     ]
    }
   ],
   "source": [
    "clf = ExtraTreesClassifier()\n",
    "params = {\n",
    "    'criterion': ['gini', 'entropy'],\n",
    "    'n_estimators': [100, 200, 500],\n",
    "    'min_samples_leaf': [5, 50, 100],\n",
    "    'max_features' : [40, 'auto']\n",
    "}\n",
    "\n",
    "gs = GridSearchCV(estimator = clf, param_grid = params, n_jobs = -1, verbose = 2, cv = 3,\n",
    "                  scoring='roc_auc')\n",
    "gs.fit(X_train, y_train)"
   ]
  },
  {
   "cell_type": "code",
   "execution_count": null,
   "id": "4153e567",
   "metadata": {},
   "outputs": [],
   "source": [
    "gs.best_params_"
   ]
  },
  {
   "cell_type": "code",
   "execution_count": null,
   "id": "8b53acb8",
   "metadata": {},
   "outputs": [],
   "source": [
    "gs = gs.best_estimator_"
   ]
  },
  {
   "cell_type": "code",
   "execution_count": null,
   "id": "dcb92a20",
   "metadata": {},
   "outputs": [],
   "source": [
    "pred = gs.predict(X_test)\n",
    "proba = gs.predict_proba(X_test)[:, 1]"
   ]
  },
  {
   "cell_type": "code",
   "execution_count": null,
   "id": "2046837a",
   "metadata": {},
   "outputs": [],
   "source": [
    "roc = \"{:.5f}\".format(roc_auc_score(y_test, proba))\n",
    "print(f\"Współczynnik roc_auc wynosi: {roc}\")"
   ]
  },
  {
   "cell_type": "code",
   "execution_count": null,
   "id": "68f9faaa",
   "metadata": {},
   "outputs": [],
   "source": [
    "acc = \"{:.5f}\".format(accuracy_score(y_test, pred))\n",
    "print(f\"Współczynnik accuracy wynosi: {acc}\")"
   ]
  },
  {
   "cell_type": "markdown",
   "id": "273af0e8",
   "metadata": {},
   "source": [
    "## Random Search"
   ]
  },
  {
   "cell_type": "code",
   "execution_count": null,
   "id": "7226e137",
   "metadata": {},
   "outputs": [],
   "source": [
    "from sklearn.model_selection import RandomizedSearchCV"
   ]
  },
  {
   "cell_type": "code",
   "execution_count": null,
   "id": "9035d105",
   "metadata": {},
   "outputs": [],
   "source": [
    "clf = ExtraTreesClassifier()\n",
    "params = {\n",
    "    'criterion': ['gini', 'entropy'],\n",
    "    'n_estimators': np.arange(100, 501, 50, dtype=int),\n",
    "    'min_samples_leaf': np.arange(5, 101, 10, dtype=int),\n",
    "    'max_features' : np.arange(5, 50, 5, dtype=int)\n",
    "}\n",
    "rs = RandomizedSearchCV(estimator = clf, param_distributions = params, verbose=10, \n",
    "                               cv = 3, n_iter = 2, n_jobs = -1, scoring='roc_auc')\n",
    "rs.fit(X_train, y_train)"
   ]
  },
  {
   "cell_type": "code",
   "execution_count": 10,
   "id": "0181233e",
   "metadata": {},
   "outputs": [
    {
     "data": {
      "text/plain": [
       "{'n_estimators': 450,\n",
       " 'min_samples_leaf': 95,\n",
       " 'max_features': 45,\n",
       " 'criterion': 'gini'}"
      ]
     },
     "execution_count": 10,
     "metadata": {},
     "output_type": "execute_result"
    }
   ],
   "source": [
    "rs.best_params_"
   ]
  },
  {
   "cell_type": "code",
   "execution_count": 11,
   "id": "83ea1a09",
   "metadata": {},
   "outputs": [],
   "source": [
    "rs = rs.best_estimator_"
   ]
  },
  {
   "cell_type": "code",
   "execution_count": 16,
   "id": "d00699d0",
   "metadata": {},
   "outputs": [],
   "source": [
    "pred = rs.predict(X_test)\n",
    "proba = rs.predict_proba(X_test)[:, 1]"
   ]
  },
  {
   "cell_type": "code",
   "execution_count": 17,
   "id": "302e2e53",
   "metadata": {},
   "outputs": [
    {
     "name": "stdout",
     "output_type": "stream",
     "text": [
      "Współczynnik roc_auc wynosi: 0.67826\n"
     ]
    }
   ],
   "source": [
    "roc = \"{:.5f}\".format(roc_auc_score(y_test, proba))\n",
    "print(f\"Współczynnik roc_auc wynosi: {roc}\")"
   ]
  },
  {
   "cell_type": "code",
   "execution_count": 15,
   "id": "f91db314",
   "metadata": {},
   "outputs": [
    {
     "name": "stdout",
     "output_type": "stream",
     "text": [
      "Współczynnik accuracy wynosi: 0.62954\n"
     ]
    }
   ],
   "source": [
    "acc = \"{:.5f}\".format(accuracy_score(y_test, pred))\n",
    "print(f\"Współczynnik accuracy wynosi: {acc}\")"
   ]
  },
  {
   "cell_type": "markdown",
   "id": "5c5707fe",
   "metadata": {},
   "source": [
    "## Optymalizacja Bayesowska"
   ]
  },
  {
   "cell_type": "code",
   "execution_count": null,
   "id": "25b453d7",
   "metadata": {},
   "outputs": [],
   "source": [
    "from skopt import BayesSearchCV"
   ]
  },
  {
   "cell_type": "code",
   "execution_count": 43,
   "id": "8fd99e50",
   "metadata": {},
   "outputs": [],
   "source": [
    "params = {\n",
    "    'criterion': ['gini', 'entropy'],\n",
    "    'n_estimators': np.arange(100, 501, 50, dtype=int),\n",
    "    'min_samples_leaf': np.arange(5, 101, 10, dtype=int),\n",
    "    'max_features' : np.arange(5, 50, 5, dtype=int)\n",
    "}"
   ]
  },
  {
   "cell_type": "code",
   "execution_count": null,
   "id": "3e279e57",
   "metadata": {},
   "outputs": [],
   "source": [
    "clf = ExtraTreesClassifier()\n",
    "bayes = BayesSearchCV(\n",
    "        estimator=clf,\n",
    "        search_spaces=params,\n",
    "        scoring='roc_auc',\n",
    "        n_jobs=-1,\n",
    "        n_iter=20,\n",
    "        verbose=2,\n",
    "        random_state=21,\n",
    "        cv=3\n",
    "    )\n",
    "bayes.fit(X_train, y_train)\n",
    "bayes.best_params_"
   ]
  },
  {
   "cell_type": "code",
   "execution_count": null,
   "id": "98ec48e7",
   "metadata": {},
   "outputs": [],
   "source": [
    "bayes.best_params_"
   ]
  },
  {
   "cell_type": "code",
   "execution_count": null,
   "id": "02fd74d1",
   "metadata": {},
   "outputs": [],
   "source": [
    "bayes = bayes.best_estimator_"
   ]
  },
  {
   "cell_type": "code",
   "execution_count": null,
   "id": "089eaff8",
   "metadata": {},
   "outputs": [],
   "source": [
    "pred = bayes.predict(X_test)\n",
    "proba = bayes.predict_proba(X_test)[:, 1]"
   ]
  },
  {
   "cell_type": "code",
   "execution_count": null,
   "id": "f3a31c90",
   "metadata": {},
   "outputs": [],
   "source": [
    "roc = \"{:.5f}\".format(roc_auc_score(y_test, proba))\n",
    "print(f\"Współczynnik roc_auc wynosi: {roc}\")"
   ]
  },
  {
   "cell_type": "code",
   "execution_count": null,
   "id": "fbcb67d1",
   "metadata": {},
   "outputs": [],
   "source": [
    "acc = \"{:.5f}\".format(accuracy_score(y_test, pred))\n",
    "print(f\"Współczynnik accuracy wynosi: {acc}\")"
   ]
  }
 ],
 "metadata": {
  "kernelspec": {
   "display_name": "Python 3 (ipykernel)",
   "language": "python",
   "name": "python3"
  },
  "language_info": {
   "codemirror_mode": {
    "name": "ipython",
    "version": 3
   },
   "file_extension": ".py",
   "mimetype": "text/x-python",
   "name": "python",
   "nbconvert_exporter": "python",
   "pygments_lexer": "ipython3",
   "version": "3.8.12"
  }
 },
 "nbformat": 4,
 "nbformat_minor": 5
}
